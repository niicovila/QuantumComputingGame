{
  "nbformat": 4,
  "nbformat_minor": 0,
  "metadata": {
    "colab": {
      "provenance": []
    },
    "kernelspec": {
      "name": "python3",
      "display_name": "Python 3"
    },
    "language_info": {
      "name": "python"
    }
  },
  "cells": [
    {
      "cell_type": "code",
      "source": [
        "!pip install qiskit"
      ],
      "metadata": {
        "id": "WJfkTOrMM6Uz"
      },
      "execution_count": 42,
      "outputs": []
    },
    {
      "cell_type": "code",
      "execution_count": 43,
      "metadata": {
        "id": "WnfdGVDkMkqb"
      },
      "outputs": [],
      "source": [
        "from qiskit import QuantumCircuit, execute, Aer, QuantumRegister, ClassicalRegister\n",
        "from qiskit.quantum_info import Statevector\n",
        "import numpy as np\n",
        "\n",
        "def simulate_qubit():\n",
        "    # Define the qubit in a superposition of |0> and |1>\n",
        "    qreg = QuantumRegister(1)\n",
        "    creg = ClassicalRegister(1)\n",
        "    q = QuantumCircuit(qreg, creg)\n",
        "    zero_prob = np.random.random()\n",
        "    one_prob = 1-zero_prob\n",
        "    q.initialize([np.sqrt(zero_prob), np.sqrt(one_prob)],0)\n",
        "\n",
        "    return q, creg, zero_prob\n"
      ]
    },
    {
      "cell_type": "code",
      "source": [
        "import qiskit as qk\n",
        "import numpy as np\n",
        "\n",
        "def measuring(q, c):\n",
        "    # Measure the qubit and return the result\n",
        "    q.measure(0, c)\n",
        "    job = qk.execute(q, backend=qk.Aer.get_backend('qasm_simulator'), shots=1)\n",
        "    result = job.result().get_counts()\n",
        "    return int(list(result.keys())[0])\n",
        "\n",
        "def quantum_guessing_game():\n",
        "    print(\"Welcome to the Quantum Guessing Game!\")\n",
        "    coins = 10\n",
        "    result = []\n",
        "    playedcoins = 0\n",
        "    exit = 0\n",
        "    count = 0\n",
        "    \n",
        "\n",
        "    print(\"Get ready to play with the principles of quantum mechanics.\")\n",
        "    print(\"In this game, you will be presented with a qubit in a quantum state,\")\n",
        "    print(\"described as a superposition of the two basis states |0> and |1>.\")\n",
        "    print(\"Your goal is to guess the probability of measuring the qubit in the state |0>\")\n",
        "    print(\"given a certain number of measurements. Each round of the game, the qubit will take\")\n",
        "    print(\"a state with random probabilities. You will make a guess and if you are close to\")\n",
        "    print(\"the real probability value, you will earn a coin. Otherwise, you will lose 3 coins.\")\n",
        "    print(\"Remember, the measurements represent the actual probability of measuring |0>.\")\n",
        "    print(\"This game is a fun and interactive way to explore and understand the principle\")\n",
        "    print(\"of superposition and the behavior of quantum systems. So let's start playing and\")\n",
        "    print(\"see how well you can guess the probability of the state |0> of a qubit!\\n\")\n",
        "\n",
        "    while True and exit==0:\n",
        "      print(\"Number of coins:\", coins)\n",
        "      q,creg, true_prob = simulate_qubit()\n",
        "      result = []\n",
        "      exit = (input(\"Press Esc to exit game, otherwise press 0\\n\"))\n",
        "      if(exit==''):\n",
        "        break\n",
        "      while len(result) < 10:\n",
        "          # Apply the appropriate rotation gate based on the random probability\n",
        "          # Measure the qubit and get the result\n",
        "\n",
        "          if playedcoins == 0 and len(result) == 0:\n",
        "              while True:\n",
        "                  try:\n",
        "                      playedcoins = int(input(\"How many coins would you like to play with?\\n \"))\n",
        "                      if playedcoins > coins:\n",
        "                          print(f\"You don't have {playedcoins} coins to play. Please choose a lower amount.\")\n",
        "                          continue\n",
        "                      elif playedcoins < 1:\n",
        "                          print(\"You must play at least 1 coin. Please choose a valid amount.\")\n",
        "                          continue\n",
        "                      else:\n",
        "                          break\n",
        "                  except ValueError:\n",
        "                      print(\"Please enter a valid integer.\")\n",
        "              \n",
        "              coins -= playedcoins\n",
        "          print(\"Coins:\", coins)\n",
        "          print(\"Playing with:\", playedcoins)\n",
        "          measured = int(input(\"Input a 1 to measure, input 0 if you want to make a guess\\n\"))\n",
        "          if measured == 1 and len(result)<10:\n",
        "            measurement = measuring(q, creg)\n",
        "            result.append(measurement)\n",
        "            print(f\"Measurement {len(result)}: {measurement}\")\n",
        "          elif measured == 1:\n",
        "            measured = int(input(\"You need to press 0 now. You can't make more measurements\\n\"))\n",
        "          if measured == 0:\n",
        "            guess = float(input(\"What is your guess for probability of state |0>\\n\"))\n",
        "            print(\"True probability of state |0>:\", true_prob)\n",
        "            if (guess-true_prob)<0.1:\n",
        "\n",
        "              if(len(result) == 10):\n",
        "                coins += playedcoins*1.01\n",
        "              elif(len(result) == 9):\n",
        "                coins += playedcoins*1.05\n",
        "              elif(len(result) == 8):\n",
        "                coins += playedcoins*1.06\n",
        "              elif(len(result) == 7):\n",
        "                coins += playedcoins*1.2\n",
        "              elif(len(result) == 6):\n",
        "                coins += playedcoins*1.3\n",
        "              elif(len(result) == 5):\n",
        "                coins += playedcoins*1.4\n",
        "              elif(len(result) == 4):\n",
        "                coins += playedcoins*1.5\n",
        "              elif(len(result) == 3):\n",
        "                coins += playedcoins*1.6\n",
        "              elif(len(result) == 2):\n",
        "                coins += playedcoins*1.7\n",
        "              elif(len(result) == 1):\n",
        "                coins += playedcoins*1.8\n",
        "              elif(len(result) == 0):\n",
        "                coins += playedcoins*2\n",
        "            else:\n",
        "              coins -= playedcoins\n",
        "            break\n",
        "                \n",
        "                \n",
        "                \n",
        "\n",
        "\n",
        "\n"
      ],
      "metadata": {
        "id": "JTsJDYShNDii"
      },
      "execution_count": 46,
      "outputs": []
    },
    {
      "cell_type": "code",
      "source": [
        "quantum_guessing_game()"
      ],
      "metadata": {
        "colab": {
          "base_uri": "https://localhost:8080/"
        },
        "id": "wA8d4bUYNF8N",
        "outputId": "b499688c-9fd1-4847-fd7b-712fa99f5b39"
      },
      "execution_count": 47,
      "outputs": [
        {
          "name": "stdout",
          "output_type": "stream",
          "text": [
            "Welcome to the Quantum Guessing Game!\n",
            "Get ready to play with the principles of quantum mechanics.\n",
            "In this game, you will be presented with a qubit in a quantum state,\n",
            "described as a superposition of the two basis states |0> and |1>.\n",
            "Your goal is to guess the probability of measuring the qubit in the state |0>\n",
            "given a certain number of measurements. Each round of the game, the qubit will take\n",
            "a state with random probabilities. You will make a guess and if you are close to\n",
            "the real probability value, you will earn a coin. Otherwise, you will lose 3 coins.\n",
            "Remember, the measurements represent the actual probability of measuring |0>.\n",
            "This game is a fun and interactive way to explore and understand the principle\n",
            "of superposition and the behavior of quantum systems. So let's start playing and\n",
            "see how well you can guess the probability of the state |0> of a qubit!\n",
            "\n",
            "Number of coins: 10\n",
            "Press Esc to exit game, otherwise press 0\n",
            "\n"
          ]
        }
      ]
    }
  ]
}